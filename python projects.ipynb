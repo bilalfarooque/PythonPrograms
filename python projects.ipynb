{
 "cells": [
  {
   "cell_type": "code",
   "execution_count": 1,
   "metadata": {},
   "outputs": [
    {
     "name": "stdout",
     "output_type": "stream",
     "text": [
      "The strings are anagrams.\n"
     ]
    }
   ],
   "source": [
    "# function to check if two strings are\n",
    "# anagram or not\n",
    "def check(s1, s2):\n",
    "     \n",
    "    # the sorted strings are checked\n",
    "    if(sorted(s1)== sorted(s2)):\n",
    "        print(\"The strings are anagrams.\")\n",
    "    else:\n",
    "        print(\"The strings aren't anagrams.\")        \n",
    "         \n",
    "# driver code \n",
    "s1 =\"listen\"\n",
    "s2 =\"silent\"\n",
    "check(s1, s2)"
   ]
  },
  {
   "cell_type": "code",
   "execution_count": 2,
   "metadata": {},
   "outputs": [
    {
     "name": "stdout",
     "output_type": "stream",
     "text": [
      "Enter IBAN, please: pk1239574562487384523\n",
      "IBAN entered is invalid.\n"
     ]
    }
   ],
   "source": [
    "# IBAN Validator.\n",
    "\n",
    "iban = input(\"Enter IBAN, please: \")\n",
    "iban = iban.replace(' ','')\n",
    "\n",
    "if not iban.isalnum():\n",
    "    print(\"You have entered invalid characters.\")\n",
    "elif len(iban) < 15:\n",
    "    print(\"IBAN entered is too short.\")\n",
    "elif len(iban) > 31:\n",
    "    print(\"IBAN entered is too long.\")\n",
    "else:\n",
    "    iban = (iban[4:] + iban[0:4]).upper()\n",
    "    iban2 = ''\n",
    "    for ch in iban:\n",
    "        if ch.isdigit():\n",
    "            iban2 += ch\n",
    "        else:\n",
    "            iban2 += str(10 + ord(ch) - ord('A'))\n",
    "    iban = int(iban2)\n",
    "    if iban % 97 == 1:\n",
    "        print(\"IBAN entered is valid.\")\n",
    "    else:\n",
    "        print(\"IBAN entered is invalid.\")\n"
   ]
  },
  {
   "cell_type": "code",
   "execution_count": 3,
   "metadata": {},
   "outputs": [
    {
     "name": "stdout",
     "output_type": "stream",
     "text": [
      "Enter your message: ipendsfa\n",
      "JQFOETGB\n"
     ]
    }
   ],
   "source": [
    "# Caesar cipher.\n",
    "# encrypting message simple way\n",
    "text = input(\"Enter your message: \")\n",
    "cipher = ''\n",
    "for char in text:\n",
    "    if not char.isalpha():\n",
    "        continue\n",
    "    char = char.upper()\n",
    "    code = ord(char) + 1\n",
    "    if code > ord('Z'):\n",
    "        code = ord('A')\n",
    "    cipher += chr(code)\n",
    "\n",
    "print(cipher)\n"
   ]
  },
  {
   "cell_type": "code",
   "execution_count": 1,
   "metadata": {},
   "outputs": [
    {
     "name": "stdout",
     "output_type": "stream",
     "text": [
      "Enter your message: JQFOETGB\n",
      "IPENDSFA\n"
     ]
    }
   ],
   "source": [
    "# Caesar cipher.\n",
    "# decrypting message simple way\n",
    "text = input(\"Enter your message: \")\n",
    "code = ''\n",
    "for char in text:\n",
    "    if not char.isalpha():\n",
    "        continue\n",
    "    char = char.upper()\n",
    "    cipher = ord(char) - 1\n",
    "    if cipher < ord('A'):\n",
    "        cipher = ord('Z')\n",
    "    code += chr(cipher)\n",
    "\n",
    "print(code)\n"
   ]
  },
  {
   "cell_type": "code",
   "execution_count": 3,
   "metadata": {},
   "outputs": [
    {
     "name": "stdout",
     "output_type": "stream",
     "text": [
      " Enter a string to check palindrome: malyalam\n",
      "The string is a palindrome.\n"
     ]
    }
   ],
   "source": [
    "# Program to check if a string is palindrome or not\n",
    "\n",
    "Srt = input(\" Enter a string to check palindrome: \")\n",
    "\n",
    "# make it suitable for caseless comparison\n",
    "my_str = ''\n",
    "my_str = my_str.casefold()\n",
    "\n",
    "# reverse the string\n",
    "rev_str = reversed(my_str)\n",
    "\n",
    "# check if the string is equal to its reverse\n",
    "if list(my_str) == list(rev_str):\n",
    "   print(\"The string is a palindrome.\")\n",
    "else:\n",
    "   print(\"The string is not a palindrome.\")"
   ]
  },
  {
   "cell_type": "code",
   "execution_count": 4,
   "metadata": {},
   "outputs": [
    {
     "name": "stdout",
     "output_type": "stream",
     "text": [
      "Yes\n"
     ]
    }
   ],
   "source": [
    "def isPalindrome(s):\n",
    "    return s == s[::-1]\n",
    " \n",
    " \n",
    "# Driver code\n",
    "s = \"malayalam\"\n",
    "ans = isPalindrome(s)\n",
    " \n",
    "if ans:\n",
    "    print(\"Yes\")\n",
    "else:\n",
    "    print(\"No\")"
   ]
  },
  {
   "cell_type": "code",
   "execution_count": null,
   "metadata": {},
   "outputs": [],
   "source": []
  }
 ],
 "metadata": {
  "kernelspec": {
   "display_name": "Python 3",
   "language": "python",
   "name": "python3"
  },
  "language_info": {
   "codemirror_mode": {
    "name": "ipython",
    "version": 3
   },
   "file_extension": ".py",
   "mimetype": "text/x-python",
   "name": "python",
   "nbconvert_exporter": "python",
   "pygments_lexer": "ipython3",
   "version": "3.6.5"
  }
 },
 "nbformat": 4,
 "nbformat_minor": 5
}
